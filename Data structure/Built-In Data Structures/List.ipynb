{
 "cells": [
  {
   "cell_type": "code",
   "execution_count": 18,
   "metadata": {},
   "outputs": [
    {
     "data": {
      "text/plain": [
       "\"\\nlist:list is a built in data structure, List's are mutable and ordered\\n\""
      ]
     },
     "execution_count": 18,
     "metadata": {},
     "output_type": "execute_result"
    }
   ],
   "source": [
    "'''\n",
    "list:list is a built in data structure, List's are mutable and ordered\n",
    "'''"
   ]
  },
  {
   "cell_type": "code",
   "execution_count": 19,
   "metadata": {},
   "outputs": [
    {
     "name": "stdout",
     "output_type": "stream",
     "text": [
      "[1, 2, 3, 4, 5]\n"
     ]
    }
   ],
   "source": [
    "#list declarations and defination/Initialization\n",
    "list_var=[1,2,3,4,5]\n",
    "print(list_var)"
   ]
  },
  {
   "cell_type": "code",
   "execution_count": 20,
   "metadata": {},
   "outputs": [
    {
     "name": "stdout",
     "output_type": "stream",
     "text": [
      "<class 'type'>\n"
     ]
    }
   ],
   "source": [
    "#printing list_var type\n",
    "print(type(list))"
   ]
  },
  {
   "cell_type": "code",
   "execution_count": 21,
   "metadata": {},
   "outputs": [
    {
     "name": "stdout",
     "output_type": "stream",
     "text": [
      "1\n"
     ]
    }
   ],
   "source": [
    "#Accessing data elemnent from list_var variable\n",
    "print(list_var[0])"
   ]
  },
  {
   "cell_type": "code",
   "execution_count": 22,
   "metadata": {},
   "outputs": [
    {
     "name": "stdout",
     "output_type": "stream",
     "text": [
      "9\n"
     ]
    }
   ],
   "source": [
    "#modifying data element\n",
    "list_var[0]=9\n",
    "print(list_var[0])\n"
   ]
  },
  {
   "cell_type": "code",
   "execution_count": 23,
   "metadata": {},
   "outputs": [
    {
     "name": "stdout",
     "output_type": "stream",
     "text": [
      "[9, 2]\n"
     ]
    }
   ],
   "source": [
    "#slicing the list and extracting the data elements\n",
    "print(list_var[0:2])  #[0:n-1] from 0 to n-1"
   ]
  },
  {
   "cell_type": "code",
   "execution_count": 24,
   "metadata": {},
   "outputs": [],
   "source": [
    "#join is one of list method.\n",
    "#join string method take an list of string argument and returns a string."
   ]
  },
  {
   "cell_type": "code",
   "execution_count": 25,
   "metadata": {},
   "outputs": [
    {
     "name": "stdout",
     "output_type": "stream",
     "text": [
      "NoWayHome FarFromTheHome HomeComing SpiderMan1 SpderMan2 SpiderMan3\n"
     ]
    }
   ],
   "source": [
    "#simple way to join all string list elements to a single string\n",
    "str_list=[\"NoWayHome\",\"FarFromTheHome\",\"HomeComing\",\"SpiderMan1\",\"SpderMan2\",\"SpiderMan3\"]\n",
    "str_list=\" \".join(str_list) \n",
    "print(str_list)"
   ]
  },
  {
   "cell_type": "code",
   "execution_count": 27,
   "metadata": {},
   "outputs": [
    {
     "name": "stdout",
     "output_type": "stream",
     "text": [
      "NoWayHome-FarFromTheHome-HomeComing-SpiderMan1-SpderMan2-SpiderMan3\n",
      "NoWayHome\n",
      "FarFromTheHome\n",
      "HomeComing\n",
      "SpiderMan1\n",
      "SpderMan2\n",
      "SpiderMan3\n"
     ]
    }
   ],
   "source": [
    "#another way to display elements from list\n",
    "str_list=[\"NoWayHome\",\"FarFromTheHome\",\"HomeComing\",\"SpiderMan1\",\"SpderMan2\",\"SpiderMan3\"]\n",
    "str_list=\"\\n\".join(str_list) \n",
    "print(str_list)\n"
   ]
  },
  {
   "cell_type": "code",
   "execution_count": 28,
   "metadata": {},
   "outputs": [
    {
     "name": "stdout",
     "output_type": "stream",
     "text": [
      "['NoWayHome', 'FarFromTheHome', 'HomeComing', 'SpiderMan1', 'SpderMan2', 'SpiderMan3', 'TheAmazingSpiderMan']\n"
     ]
    }
   ],
   "source": [
    "#append was another list method used to add an element from end of the list\n",
    "str_list=[\"NoWayHome\",\"FarFromTheHome\",\"HomeComing\",\"SpiderMan1\",\"SpderMan2\",\"SpiderMan3\"]\n",
    "str_list.append(\"TheAmazingSpiderMan\")\n",
    "print(str_list)"
   ]
  }
 ],
 "metadata": {
  "interpreter": {
   "hash": "b89b5cfaba6639976dc87ff2fec6d58faec662063367e2c229c520fe71072417"
  },
  "kernelspec": {
   "display_name": "Python 3.10.0 64-bit",
   "language": "python",
   "name": "python3"
  },
  "language_info": {
   "codemirror_mode": {
    "name": "ipython",
    "version": 3
   },
   "file_extension": ".py",
   "mimetype": "text/x-python",
   "name": "python",
   "nbconvert_exporter": "python",
   "pygments_lexer": "ipython3",
   "version": "3.10.0"
  },
  "orig_nbformat": 4
 },
 "nbformat": 4,
 "nbformat_minor": 2
}
