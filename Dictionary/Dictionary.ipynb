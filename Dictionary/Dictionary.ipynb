{
 "cells": [
  {
   "cell_type": "code",
   "execution_count": null,
   "metadata": {},
   "outputs": [],
   "source": [
    "# Dictionary is a Mapping Type. One to many hashable values(Keys) and objects they represent (values).\n",
    "# Dictionaries are mutable."
   ]
  },
  {
   "cell_type": "code",
   "execution_count": 4,
   "metadata": {},
   "outputs": [
    {
     "name": "stdout",
     "output_type": "stream",
     "text": [
      "{'A': 65, 'B': 66}\n"
     ]
    }
   ],
   "source": [
    "Dic={'A':ord('A'), 'B':ord('B')}\n",
    "print(Dic)"
   ]
  }
 ],
 "metadata": {
  "interpreter": {
   "hash": "e5046604aeb6a033f9dc107e8c06cd6d68040d2c08ad5083e3ee5a22553dea89"
  },
  "kernelspec": {
   "display_name": "Python 3.8.0 64-bit ('system32-l8Lx4Hna': pipenv)",
   "language": "python",
   "name": "python3"
  },
  "language_info": {
   "codemirror_mode": {
    "name": "ipython",
    "version": 3
   },
   "file_extension": ".py",
   "mimetype": "text/x-python",
   "name": "python",
   "nbconvert_exporter": "python",
   "pygments_lexer": "ipython3",
   "version": "3.8.0"
  },
  "orig_nbformat": 4
 },
 "nbformat": 4,
 "nbformat_minor": 2
}
