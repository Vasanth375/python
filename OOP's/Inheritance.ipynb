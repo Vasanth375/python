{
 "cells": [
  {
   "cell_type": "code",
   "execution_count": 6,
   "metadata": {},
   "outputs": [
    {
     "data": {
      "text/plain": [
       "' Program(s) to know inheritance and methods '"
      ]
     },
     "execution_count": 6,
     "metadata": {},
     "output_type": "execute_result"
    }
   ],
   "source": [
    "''' Program(s) to know inheritance and methods '''"
   ]
  },
  {
   "cell_type": "code",
   "execution_count": 7,
   "metadata": {},
   "outputs": [
    {
     "name": "stdout",
     "output_type": "stream",
     "text": [
      "Base Class constructor accessed\n"
     ]
    }
   ],
   "source": [
    "#simple inheritance\n",
    "class A: #Base Class\n",
    "    def __init__(self) : #baseclass constructor\n",
    "        print(\"Base Class constructor accessed\")\n",
    "\n",
    "#to inherit baseclass to subclass <class_keyword> sub_class_name(base_class):\n",
    "class B(A): #Sub Class\n",
    "    def __init__(self) :\n",
    "        pass\n",
    "\n",
    "a=A() #creating baseclass object"
   ]
  },
  {
   "cell_type": "code",
   "execution_count": null,
   "metadata": {},
   "outputs": [],
   "source": [
    "'''\n",
    "When we inherit subclass to baseclass subclass's constructor(__init__()) overrides baseclass's __init__() method\n",
    "so when we want to call __init__() method\n",
    "'''"
   ]
  },
  {
   "cell_type": "code",
   "execution_count": 28,
   "metadata": {},
   "outputs": [
    {
     "name": "stdout",
     "output_type": "stream",
     "text": [
      "68\n"
     ]
    }
   ],
   "source": [
    "# call a constructor from subclass\n",
    "class A:\n",
    "    def __init__(self,roll) -> None:\n",
    "        self.froll=roll #froll is instance attribute\n",
    "        \n",
    "    def printRoll(self):\n",
    "        return self.froll\n",
    "\n",
    "class B(A):\n",
    "    def __init__(self,roll,name) -> None:\n",
    "        A.__init__(self,roll)\n",
    "        #another way to call __init__() method\n",
    "        #super().__init__(self)\n",
    "\n",
    "b=B(68,\"Vasanth\") #here b is instance of both sub and base class's\n",
    "print(b.printRoll())"
   ]
  },
  {
   "cell_type": "code",
   "execution_count": 27,
   "metadata": {},
   "outputs": [
    {
     "name": "stdout",
     "output_type": "stream",
     "text": [
      "this is subclass\n"
     ]
    }
   ],
   "source": [
    "#if we had situation like same method same in both classes\n",
    "class A:\n",
    "    def printf(self):\n",
    "        print(\"Baseclass\")\n",
    "\n",
    "class B(A):\n",
    "    def printf(self):\n",
    "        print(\"this is subclass\")\n",
    "\n",
    "b=B()\n",
    "b.printf()"
   ]
  }
 ],
 "metadata": {
  "interpreter": {
   "hash": "b89b5cfaba6639976dc87ff2fec6d58faec662063367e2c229c520fe71072417"
  },
  "kernelspec": {
   "display_name": "Python 3.10.0 64-bit",
   "language": "python",
   "name": "python3"
  },
  "language_info": {
   "codemirror_mode": {
    "name": "ipython",
    "version": 3
   },
   "file_extension": ".py",
   "mimetype": "text/x-python",
   "name": "python",
   "nbconvert_exporter": "python",
   "pygments_lexer": "ipython3",
   "version": "3.10.0"
  },
  "orig_nbformat": 4
 },
 "nbformat": 4,
 "nbformat_minor": 2
}
